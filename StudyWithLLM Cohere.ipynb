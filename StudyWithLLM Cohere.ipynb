{
 "cells": [
  {
   "cell_type": "markdown",
   "id": "5cde1b69-f431-4c07-9835-8ca13396850d",
   "metadata": {},
   "source": [
    "# Prompt Egineering\n",
    "## LLMを使った学習"
   ]
  },
  {
   "cell_type": "markdown",
   "id": "e7fc05e2-8f71-4d41-89f6-a06688a719f7",
   "metadata": {},
   "source": [
    "CohereのAPIキーは、https://dashboard.cohere.com/welcome/login からサインアップして取得してください<br>\n"
   ]
  },
  {
   "cell_type": "code",
   "execution_count": null,
   "id": "9fbe06b0-91f6-4b3a-897f-bb41e9963fd7",
   "metadata": {},
   "outputs": [],
   "source": [
    "!pip install python-dotenv cohere"
   ]
  },
  {
   "cell_type": "code",
   "execution_count": 1,
   "id": "aadbbff3-0b9f-434b-8bac-fa2f62dbb92a",
   "metadata": {},
   "outputs": [],
   "source": [
    "import os\n",
    "import cohere\n",
    "import sys\n",
    "from dotenv import load_dotenv, find_dotenv\n",
    "_ = load_dotenv(find_dotenv())\n",
    "\n",
    "# OSの環境変数にCOHERE_API_KEYを設定してください\n",
    "api_key=os.environ.get(\"COHERE_API_KEY\")\n",
    "#print(api_key)"
   ]
  },
  {
   "cell_type": "code",
   "execution_count": 2,
   "id": "a0a812df-1842-4648-8f85-53c5e17a944e",
   "metadata": {},
   "outputs": [],
   "source": [
    "def get_completion_from_messages(messages, user_message,\n",
    "                                 temperature=0, max_tokens=500):\n",
    "    response = cohere.Client(api_key).chat(\n",
    "        chat_history=messages,\n",
    "        message=user_message\n",
    "    )\n",
    "    return response.text"
   ]
  },
  {
   "cell_type": "markdown",
   "id": "8513424a-bfd7-4b21-942a-ea7cbf388e28",
   "metadata": {},
   "source": [
    "### 教材をここにコピー"
   ]
  },
  {
   "cell_type": "code",
   "execution_count": 3,
   "id": "6434068e-17d3-4538-8cff-d4f72a0f6917",
   "metadata": {},
   "outputs": [],
   "source": [
    "textcontents = f\"\"\"\n",
    "\n",
    "\"\"\""
   ]
  },
  {
   "cell_type": "markdown",
   "id": "0ba8050c-8ffc-49ca-a416-9d0af4ea8fbb",
   "metadata": {},
   "source": [
    "### LLMへの依頼"
   ]
  },
  {
   "cell_type": "code",
   "execution_count": 4,
   "id": "672cd06f-7847-4c62-921f-e6d6013152d0",
   "metadata": {},
   "outputs": [],
   "source": [
    "user_message = f\"\"\"\n",
    "ステップ１：扱われている技術用語を抽出して、解説とともにJSON形式で出力してください。\n",
    "\n",
    "ステップ２：技術用語を軸に教育コンテンツを要約してください。\n",
    "\n",
    "ステップ３：理解度を図るため４択の演習問題を作成してください。\n",
    "\"\"\""
   ]
  },
  {
   "cell_type": "markdown",
   "id": "07681628-597a-4ffa-a489-afd66ef85d77",
   "metadata": {},
   "source": [
    "### システムプロンプト"
   ]
  },
  {
   "cell_type": "code",
   "execution_count": 5,
   "id": "b44b6313-07bf-4560-9020-6c6615dec721",
   "metadata": {},
   "outputs": [],
   "source": [
    "system_message = f\"\"\"\n",
    "あなたは優秀な技術教育の講師のアシスタントです。教育コンテンツの内容に沿って生徒からの依頼に答えてください。\n",
    "\n",
    "教育コンテンツは以下のとおりです。 \n",
    "{textcontents}\n",
    "\"\"\""
   ]
  },
  {
   "cell_type": "code",
   "execution_count": 6,
   "id": "494d14b7-e498-4367-a6c5-d9f71ef52987",
   "metadata": {},
   "outputs": [
    {
     "name": "stdout",
     "output_type": "stream",
     "text": [
      "## ステップ 1: 技術用語の JSON 形式の出力\n",
      "\n",
      "```json\n",
      "[\n",
      "    {\n",
      "        \"用語\": \"人工知能 (AI)\",\n",
      "        \"解説\": \"人間の知能に関連する問題を解決し、データから意味を導き出す自己学習システムを作成するコンピューター サイエンスの分野。\"\n",
      "    },\n",
      "    {\n",
      "        \"用語\": \"機械学習\",\n",
      "        \"解説\": \"データとアルゴリズムを使用して人間の学習プロセスを模倣し、徐々に精度を高め、データから学習するコンピューター システムを構築する AI のサブセット。\"\n",
      "    },\n",
      "    {\n",
      "        \"用語\": \"ディープラーニング\",\n",
      "        \"解説\": \"人間の脳にヒントを得た機械学習モデルの一種で、ニューラル ネットワークのレイヤーを使用して情報を処理する。\"\n",
      "    },\n",
      "    {\n",
      "        \"用語\": \"機械学習モデル\",\n",
      "        \"解説\": \"データから学習し、パターンを識別して予測を行うようにトレーニングされたコンピューター システム。\"\n",
      "    },\n",
      "    {\n",
      "        \"用語\": \"回帰分析\",\n",
      "        \"解説\": \"履歴データを使用して将来の値を予測する統計的手法。\"\n",
      "    },\n",
      "    {\n",
      "        \"用語\": \"推論\",\n",
      "        \"解説\": \"AI モデルがデータに基づいて行う予測。確率的な結果を提供する。\"\n",
      "    },\n",
      "    {\n",
      "        \"用語\": \"異常検出\",\n",
      "        \"解説\": \"AI モデルがデータ内の予想されるパターンからの逸脱を検出するプロセス。\"\n",
      "    },\n",
      "    {\n",
      "        \"用語\": \"コンピューター ビジョン\",\n",
      "        \"解説\": \"AI を使用して画像やビデオを処理し、オブジェクトの識別、分類、監視、検出を行うアプリケーション。\"\n",
      "    },\n",
      "    {\n",
      "        \"用語\": \"自然言語処理 (NLP)\",\n",
      "        \"解説\": \"機械が人間の言語を理解、解釈、生成できるようにする技術。チャットボットや音声アシスタントを可能にする。\"\n",
      "    },\n",
      "    {\n",
      "        \"用語\": \"ジェネレーティブ AI\",\n",
      "        \"解説\": \"インテリジェントな会話をし、ストーリー、画像、音楽などのオリジナル コンテンツを生成できる AI の最新の進歩。\"\n",
      "    }\n",
      "]\n",
      "```\n",
      "\n",
      "## ステップ 2: 教育コンテンツの要約\n",
      "\n",
      "この教育コンテンツは、人工知能 (AI) の基本的な概念と、それがどのように機能するかについて説明しています。AI は、人間の知能に関連する問題を解決し、データから意味を導き出すコンピューター サイエンスの分野です。機械学習は、AI のサブセットであり、データとアルゴリズムを使用して人間の学習プロセスを模倣します。ディープラーニングは、人間の脳にヒントを得た機械学習モデルの一種です。\n",
      "\n",
      "AI は、機械学習モデルを使用してデータから学習し、パターン認識、予測、推論を行います。回帰分析は、履歴データを使用して将来の値を予測する方法です。AI は、異常検出、コンピューター ビジョン、自然言語処理 (NLP) などのタスクを実行できます。NLP は、チャットボットや音声アシスタントを可能にします。\n",
      "\n",
      "ジェネレーティブ AI は、AI の最新の進歩であり、インテリジェントな会話やオリジナル コンテンツの生成が可能です。これは、AI の応用例の 1 つです。\n",
      "\n",
      "## ステップ 3: 理解度を測るための 4 択の演習問題\n",
      "\n",
      "1. 人工知能 (AI) の主な目的は何ですか?\n",
      "   a) データの視覚化\n",
      "   b) 人間の知能の模倣\n",
      "   c) データから意味を導き出す\n",
      "   d) 複雑な計算を実行する\n",
      "\n",
      "2. 機械学習はどのように機能しますか?\n",
      "   a) データを視覚化してパターンを識別する\n",
      "   b) 人間の学習プロセスを模倣してデータから学習する\n",
      "   c) ニューラル ネットワークを使用して画像を生成する\n",
      "   d) 自然言語を処理して翻訳を行う\n",
      "\n",
      "3. ディープラーニングは何にインスピレーションを受けていますか?\n",
      "   a) 人間の脳\n",
      "   b) 量子コンピューティング\n",
      "   c) 古典的なコンピューター システム\n",
      "   d) 生物学的進化\n",
      "\n",
      "4. 回帰分析は何に使用されますか?\n",
      "   a) 画像認識\n",
      "   b) 将来の値の予測\n",
      "   c) 自然言語の生成\n",
      "   d) 異常検出\n"
     ]
    }
   ],
   "source": [
    "messages =  [  \n",
    "{'role':'system', \n",
    " 'message': system_message}\n",
    "] \n",
    "\n",
    "response = get_completion_from_messages(messages,user_message)\n",
    "print(response)"
   ]
  },
  {
   "cell_type": "code",
   "execution_count": null,
   "id": "0b58d2c9-0058-4fef-ae9d-eed20a246065",
   "metadata": {},
   "outputs": [],
   "source": []
  }
 ],
 "metadata": {
  "kernelspec": {
   "display_name": "Python 3 (ipykernel)",
   "language": "python",
   "name": "python3"
  },
  "language_info": {
   "codemirror_mode": {
    "name": "ipython",
    "version": 3
   },
   "file_extension": ".py",
   "mimetype": "text/x-python",
   "name": "python",
   "nbconvert_exporter": "python",
   "pygments_lexer": "ipython3",
   "version": "3.12.1"
  }
 },
 "nbformat": 4,
 "nbformat_minor": 5
}
